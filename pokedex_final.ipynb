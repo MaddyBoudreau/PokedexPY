{
 "cells": [
  {
   "cell_type": "markdown",
   "metadata": {
    "id": "fK2SjXgoq_Tp"
   },
   "source": [
    "Take a look at PokeAPI: <a href=\"https://pokeapi.co/\">https://pokeapi.co/</a>.\n",
    "\n",
    "On this website you will see an API simulator. Trying any combination of correct possible server requests should yield you a successful result in the scrollable area. In this scrollable area is an exact server response you will get if you sent a response to it.\n",
    "\n",
    "Click on the `Documentation` tab, then click on v2. On the next page you'll see a bunch of words that seemingly make no sense. Just like with any API, there is documentation showing you how to use it. API documentation, by nature, is very wordy, overwhelming and almost never straightforward. You will find very few APIs that have simple documentation. Once you start to become a mid-senior level engineer, the little details in documentation will make all the difference in the quality of your results. Most people find API documentation difficult to navigate at first. Don't worry, it's normal.\n",
    "\n",
    "That being said, familiarize yourself with everything in the documentation and try to skim as much as possible to get a feel for where everything is before proceeding. "
   ]
  },
  {
   "cell_type": "markdown",
   "metadata": {},
   "source": [
    "<strong>`Objective`</strong>: There are several main Pokemon class types: Fire, Water, Grass, Rock, Electric. Your application will use PokeAPI to build your own API program. Compile a list of 30 total Pokemon that identify as the aforementioned class types. Each category will hold a list of Pokemon and their personal attributes and some statistics as follows. Make this program an object-oriented program:\n",
    "\n",
    "**Note** How you compile the list of Pokemon is entirely up to you. "
   ]
  },
  {
   "cell_type": "code",
   "execution_count": null,
   "metadata": {},
   "outputs": [],
   "source": [
    "import requests\n",
    "from pprint import pprint\n",
    "\n",
    "your_pokemon = None\n",
    "p = {}\n",
    "\n",
    "\n",
    "class Pokemon:\n",
    "    global your_pokemon, p\n",
    "\n",
    "    def __init__(self, poke_name, type, ability1, ability2, height, weight, Pic_of_me):\n",
    "        self.poke_name = poke_name\n",
    "        self.type = type\n",
    "        self.ability1 = ability1\n",
    "        self.ability2 = ability2\n",
    "        self.height = height\n",
    "        self.weight = weight\n",
    "        self.Pic_of_me = Pic_of_me\n",
    "\n",
    "    def __repr__(self):\n",
    "        return f'<Pokemon: {self.poke_name}>'\n",
    "\n",
    "\n",
    "class Pokedex:\n",
    "    global your_pokemon, p\n",
    "\n",
    "    def __init__(self):\n",
    "        self.pokemon_list = []\n",
    "\n",
    "    def add_pokemon(self, your_pokemon):\n",
    "        self.api_link = f\"https://pokeapi.co/api/v2/pokemon/{your_pokemon}/\"\n",
    "        self.data = requests.get(self.api_link).json()\n",
    "\n",
    "        p = Pokemon(\n",
    "            poke_name=self.data[\"name\"],\n",
    "            type=self.data[\"types\"][0][\"type\"][\"name\"],\n",
    "            ability1=self.data[\"abilities\"][0][\"ability\"][\"name\"],\n",
    "            ability2=self.data[\"abilities\"][1][\"ability\"][\"name\"],\n",
    "            height=self.data[\"height\"],\n",
    "            weight=self.data[\"weight\"],\n",
    "            Pic_of_me=self.data[\"sprites\"][\"front_default\"],\n",
    "        )\n",
    "        self.pokemon_list.append(p)\n",
    "\n",
    "    def poke_details(self):\n",
    "        for i in self.pokemon_list:\n",
    "            print(f'\\n{i.__dict__}')\n",
    "\n",
    "    def individual(self):\n",
    "        detail_name = input(\"\\nWhich one? \")\n",
    "        for each in self.pokemon_list:\n",
    "            if each.poke_name == detail_name:\n",
    "                pprint(each.__dict__)\n",
    "\n",
    "\n",
    "run_time = Pokedex()\n",
    "\n",
    "\n",
    "def selection():\n",
    "    global your_pokemon, pokemon_list\n",
    "    choice = input(\"\"\"\\nWelcome to your Pokedex! Let's get started. You've got a couple of choices: \\n\n",
    "     Type 'add' to add a new pokemon, Type 'Pokedex' to view your whole Pokedex, Type 'specific' to get \\n\n",
    "     info on one specific pokemon, or to move on for now, Type 'quit' to quit. : \"\"\").lower()\n",
    "    if choice == 'add':\n",
    "        your_pokemon = input(\"\\nChoose a pokemon to add to your Pokedex: \")\n",
    "        run_time.add_pokemon(your_pokemon)\n",
    "        selection()\n",
    "    elif choice == 'specific':\n",
    "        run_time.individual()\n",
    "        selection()\n",
    "    elif choice == 'pokedex':\n",
    "        run_time.poke_details()\n",
    "        selection()\n",
    "    elif choice == \"quit\":\n",
    "        print(\"\\nHave a good one!\")\n",
    "        quit()\n",
    "\n",
    "\n",
    "selection()"
   ]
  },
  {
   "cell_type": "markdown",
   "metadata": {
    "id": "MzLYqqcXq_Ty"
   },
   "source": [
    "<strong>`Objective`</strong>: There are several main Pokemon class types: Fire, Water, Grass, Rock, Electric. Your application will use PokeAPI to build your own API program. Compile a list of 30 total Pokemon that identify as the aforementioned class types. Each category will hold a list of Pokemon and their personal attributes and some statistics as follows. Make this program an object-oriented program:\n",
    "\n",
    "**Note** How you compile the list of Pokemon is entirely up to you. "
   ]
  },
  {
   "cell_type": "code",
   "execution_count": null,
   "metadata": {},
   "outputs": [],
   "source": []
  }
 ],
 "metadata": {
  "colab": {
   "name": "Pokemon Coding Challenge.ipynb",
   "provenance": []
  },
  "kernelspec": {
   "display_name": "Python 3",
   "language": "python",
   "name": "python3"
  },
  "language_info": {
   "codemirror_mode": {
    "name": "ipython",
    "version": 3
   },
   "file_extension": ".py",
   "mimetype": "text/x-python",
   "name": "python",
   "nbconvert_exporter": "python",
   "pygments_lexer": "ipython3",
   "version": "3.8.13"
  }
 },
 "nbformat": 4,
 "nbformat_minor": 1
}
